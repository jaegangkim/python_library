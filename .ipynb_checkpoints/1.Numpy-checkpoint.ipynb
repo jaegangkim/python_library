{
 "cells": [
  {
   "cell_type": "code",
   "execution_count": 1,
   "id": "20aa97be",
   "metadata": {},
   "outputs": [],
   "source": [
    "import numpy as np"
   ]
  },
  {
   "cell_type": "code",
   "execution_count": 5,
   "id": "89f6e2e8",
   "metadata": {},
   "outputs": [],
   "source": [
    "# numpy에서 사용하는 배열 array 생성하기\n",
    "# 배열안에 넣을 데이터\n",
    "list1 = [1,2,3,4,5]\n",
    "list2 = [6,7,8,9,10]"
   ]
  },
  {
   "cell_type": "code",
   "execution_count": 9,
   "id": "b1c7a151",
   "metadata": {},
   "outputs": [],
   "source": [
    "# np.array() : 배열 생성\n",
    "arr1 = np.array(list1)\n",
    "arr2 = np.array(list2)"
   ]
  },
  {
   "cell_type": "code",
   "execution_count": 10,
   "id": "de4c9e34",
   "metadata": {},
   "outputs": [
    {
     "data": {
      "text/plain": [
       "array([ 7,  9, 11, 13, 15])"
      ]
     },
     "execution_count": 10,
     "metadata": {},
     "output_type": "execute_result"
    }
   ],
   "source": [
    "arr1+arr2        # 각 자리의 수 끼리 더하기"
   ]
  },
  {
   "cell_type": "code",
   "execution_count": 29,
   "id": "89ac147d",
   "metadata": {},
   "outputs": [
    {
     "data": {
      "text/plain": [
       "array([[1, 2, 3],\n",
       "       [4, 5, 6]])"
      ]
     },
     "execution_count": 29,
     "metadata": {},
     "output_type": "execute_result"
    }
   ],
   "source": [
    "# 2차원 array 만들기\n",
    "list2 = [[1,2,3],[4,5,6]]     #2차원 리스트\n",
    "arr2 = np.array(list2)\n",
    "arr2"
   ]
  },
  {
   "cell_type": "markdown",
   "id": "42db1c4d",
   "metadata": {},
   "source": [
    " 배열의 크기 : shape  \n",
    " 배열의 차원 : ndim  \n",
    " 배열 요소의 개수 : size   \n",
    "   \n",
    " 배열 생성"
   ]
  },
  {
   "cell_type": "code",
   "execution_count": 13,
   "id": "4949ef06",
   "metadata": {},
   "outputs": [
    {
     "data": {
      "text/plain": [
       "(2, 3)"
      ]
     },
     "execution_count": 13,
     "metadata": {},
     "output_type": "execute_result"
    }
   ],
   "source": [
    "arr2.shape"
   ]
  },
  {
   "cell_type": "code",
   "execution_count": 16,
   "id": "c4fe7ba7",
   "metadata": {},
   "outputs": [
    {
     "data": {
      "text/plain": [
       "2"
      ]
     },
     "execution_count": 16,
     "metadata": {},
     "output_type": "execute_result"
    }
   ],
   "source": [
    "arr2.ndim"
   ]
  },
  {
   "cell_type": "code",
   "execution_count": 17,
   "id": "b5d2e9f5",
   "metadata": {},
   "outputs": [
    {
     "data": {
      "text/plain": [
       "6"
      ]
     },
     "execution_count": 17,
     "metadata": {},
     "output_type": "execute_result"
    }
   ],
   "source": [
    "arr2.size"
   ]
  },
  {
   "cell_type": "code",
   "execution_count": 18,
   "id": "52544033",
   "metadata": {},
   "outputs": [
    {
     "data": {
      "text/plain": [
       "dtype('int32')"
      ]
     },
     "execution_count": 18,
     "metadata": {},
     "output_type": "execute_result"
    }
   ],
   "source": [
    "arr2.dtype"
   ]
  },
  {
   "cell_type": "code",
   "execution_count": 27,
   "id": "18db0dbe",
   "metadata": {},
   "outputs": [
    {
     "data": {
      "text/plain": [
       "array([[0., 0., 0., 0., 0.],\n",
       "       [0., 0., 0., 0., 0.],\n",
       "       [0., 0., 0., 0., 0.]])"
      ]
     },
     "execution_count": 27,
     "metadata": {},
     "output_type": "execute_result"
    }
   ],
   "source": [
    "# 특정 값으로 배열 생성  ( 139p )\n",
    "# 0으로 채워진 배열 만들기 : np.zeros(배열크기)\n",
    "np.zeros((3,5))"
   ]
  },
  {
   "cell_type": "code",
   "execution_count": 28,
   "id": "2cbd7750",
   "metadata": {},
   "outputs": [
    {
     "data": {
      "text/plain": [
       "array([[1., 1., 1., 1.],\n",
       "       [1., 1., 1., 1.],\n",
       "       [1., 1., 1., 1.],\n",
       "       [1., 1., 1., 1.]])"
      ]
     },
     "execution_count": 28,
     "metadata": {},
     "output_type": "execute_result"
    }
   ],
   "source": [
    "np.ones((4,4))"
   ]
  },
  {
   "cell_type": "code",
   "execution_count": 35,
   "id": "96170555",
   "metadata": {},
   "outputs": [
    {
     "data": {
      "text/plain": [
       "array([['가', '가', '가'],\n",
       "       ['가', '가', '가'],\n",
       "       ['가', '가', '가'],\n",
       "       ['가', '가', '가']], dtype='<U1')"
      ]
     },
     "execution_count": 35,
     "metadata": {},
     "output_type": "execute_result"
    }
   ],
   "source": [
    "# 원하는 값으로 배열 만들기 : np.fulll(크기,값)\n",
    "np.full((4,3),\"가\")"
   ]
  },
  {
   "cell_type": "code",
   "execution_count": 39,
   "id": "2a44f831",
   "metadata": {},
   "outputs": [
    {
     "data": {
      "text/plain": [
       "array([ 1,  2,  3,  4,  5,  6,  7,  8,  9, 10, 11, 12, 13, 14, 15, 16, 17,\n",
       "       18, 19, 20, 21, 22, 23, 24, 25, 26, 27, 28, 29, 30, 31, 32, 33, 34,\n",
       "       35, 36, 37, 38, 39, 40, 41, 42, 43, 44, 45, 46, 47, 48, 49, 50])"
      ]
     },
     "execution_count": 39,
     "metadata": {},
     "output_type": "execute_result"
    }
   ],
   "source": [
    "# 연속적인 값으로 배열 : np.arange(시작,끝,간격)\n",
    "np.arange(50)+1"
   ]
  },
  {
   "cell_type": "markdown",
   "id": "c0856b5f",
   "metadata": {},
   "source": [
    "### 배열 사용하기"
   ]
  },
  {
   "cell_type": "code",
   "execution_count": 40,
   "id": "e8b40cda",
   "metadata": {},
   "outputs": [],
   "source": [
    "#요소별 연산하기"
   ]
  },
  {
   "cell_type": "code",
   "execution_count": 45,
   "id": "8ef6c0de",
   "metadata": {},
   "outputs": [
    {
     "data": {
      "text/plain": [
       "array([ 6,  7,  8,  9, 10])"
      ]
     },
     "execution_count": 45,
     "metadata": {},
     "output_type": "execute_result"
    }
   ],
   "source": [
    "arr1 = np.array([1,2,3,4,5])\n",
    "arr2 = np.arange(6,11)\n",
    "arr2"
   ]
  },
  {
   "cell_type": "code",
   "execution_count": 48,
   "id": "27f62975",
   "metadata": {},
   "outputs": [
    {
     "data": {
      "text/plain": [
       "array([[ 1,  2,  3,  4,  5],\n",
       "       [ 6,  7,  8,  9, 10],\n",
       "       [ 1,  2,  3,  4,  5]])"
      ]
     },
     "execution_count": 48,
     "metadata": {},
     "output_type": "execute_result"
    }
   ],
   "source": [
    "# 배열로 다시 배열 만들기\n",
    "np.vstack((arr1,arr2,arr1))"
   ]
  },
  {
   "cell_type": "code",
   "execution_count": 50,
   "id": "5cc1d111",
   "metadata": {},
   "outputs": [],
   "source": [
    "# 인덱싱 / 슬라이싱"
   ]
  },
  {
   "cell_type": "code",
   "execution_count": 52,
   "id": "ab7fdaa0",
   "metadata": {},
   "outputs": [],
   "source": [
    "arr3 = np.arange(1,7)"
   ]
  },
  {
   "cell_type": "code",
   "execution_count": 60,
   "id": "d19a4df1",
   "metadata": {},
   "outputs": [],
   "source": [
    "# 가지고 있는 배열의 크기를 변경하는 함수\n",
    "# arr.reshape(배열의 크기)\n",
    "arr3 = arr3.reshape(2,3)"
   ]
  },
  {
   "cell_type": "code",
   "execution_count": 64,
   "id": "f9b98591",
   "metadata": {},
   "outputs": [
    {
     "data": {
      "text/plain": [
       "True"
      ]
     },
     "execution_count": 64,
     "metadata": {},
     "output_type": "execute_result"
    }
   ],
   "source": [
    "arr3[1,2] == arr3[1][2]"
   ]
  },
  {
   "cell_type": "code",
   "execution_count": 65,
   "id": "1f9e854a",
   "metadata": {},
   "outputs": [],
   "source": [
    "arr4 = np.arange(10)"
   ]
  },
  {
   "cell_type": "code",
   "execution_count": 67,
   "id": "e9500cf7",
   "metadata": {},
   "outputs": [
    {
     "data": {
      "text/plain": [
       "array([4, 5, 6, 7, 8, 9])"
      ]
     },
     "execution_count": 67,
     "metadata": {},
     "output_type": "execute_result"
    }
   ],
   "source": [
    "arr4[4:]"
   ]
  },
  {
   "cell_type": "code",
   "execution_count": 72,
   "id": "bf47dfc7",
   "metadata": {},
   "outputs": [
    {
     "data": {
      "text/plain": [
       "array([[ 0,  1,  2,  3,  4,  5,  6,  7,  8,  9],\n",
       "       [10, 11, 12, 13, 14, 15, 16, 17, 18, 19],\n",
       "       [20, 21, 22, 23, 24, 25, 26, 27, 28, 29],\n",
       "       [30, 31, 32, 33, 34, 35, 36, 37, 38, 39],\n",
       "       [40, 41, 42, 43, 44, 45, 46, 47, 48, 49]])"
      ]
     },
     "execution_count": 72,
     "metadata": {},
     "output_type": "execute_result"
    }
   ],
   "source": [
    "arr5 = np.arange(50).reshape(5,10)\n",
    "arr5"
   ]
  },
  {
   "cell_type": "code",
   "execution_count": 76,
   "id": "36b37ac3",
   "metadata": {},
   "outputs": [
    {
     "data": {
      "text/plain": [
       "array([[ 0,  1,  2,  3,  4,  5,  6,  7,  8,  9],\n",
       "       [10, 11, 12, 13, 14, 15, 16, 17, 18, 19]])"
      ]
     },
     "execution_count": 76,
     "metadata": {},
     "output_type": "execute_result"
    }
   ],
   "source": [
    "arr5[:2,:]   # 행, 열"
   ]
  },
  {
   "cell_type": "code",
   "execution_count": 78,
   "id": "17682e77",
   "metadata": {},
   "outputs": [
    {
     "data": {
      "text/plain": [
       "array([[ 0,  1,  2,  3,  4],\n",
       "       [10, 11, 12, 13, 14],\n",
       "       [20, 21, 22, 23, 24],\n",
       "       [30, 31, 32, 33, 34]])"
      ]
     },
     "execution_count": 78,
     "metadata": {},
     "output_type": "execute_result"
    }
   ],
   "source": [
    "arr5[:4,:5]"
   ]
  },
  {
   "cell_type": "code",
   "execution_count": 81,
   "id": "90d9cabe",
   "metadata": {},
   "outputs": [
    {
     "data": {
      "text/plain": [
       "array([[16],\n",
       "       [26],\n",
       "       [36]])"
      ]
     },
     "execution_count": 81,
     "metadata": {},
     "output_type": "execute_result"
    }
   ],
   "source": [
    "arr5[1:4,6:7]  #6만 하면 가로로 나옴 ㅠ"
   ]
  },
  {
   "cell_type": "code",
   "execution_count": 83,
   "id": "fa5610f6",
   "metadata": {},
   "outputs": [
    {
     "data": {
      "text/plain": [
       "array([23, 25, 27])"
      ]
     },
     "execution_count": 83,
     "metadata": {},
     "output_type": "execute_result"
    }
   ],
   "source": [
    "# 연결되지않은 여러 값 가져오기\n",
    "arr5[2,[3,5,7]]   # 행, 열"
   ]
  },
  {
   "cell_type": "markdown",
   "id": "f9be5e0d",
   "metadata": {},
   "source": [
    "예제"
   ]
  },
  {
   "cell_type": "code",
   "execution_count": 86,
   "id": "58f22444",
   "metadata": {},
   "outputs": [
    {
     "data": {
      "text/plain": [
       "array([[175.2, 180.3, 175. , 169.2, 185.2, 188. , 177.6, 178.2, 177. ,\n",
       "        179. ],\n",
       "       [ 65.6,  88. ,  79.2,  69.3,  55. ,  71.2,  73. ,  68.9,  74. ,\n",
       "         82. ]])"
      ]
     },
     "execution_count": 86,
     "metadata": {},
     "output_type": "execute_result"
    }
   ],
   "source": [
    "# loadtxt(\"파일경로\",delimiter = ',') : 로컬 폴더에 있는 파일 읽기, ','로 구분\n",
    "data = np.loadtxt(\"height_weight.txt\", delimiter=',')\n",
    "data"
   ]
  },
  {
   "cell_type": "code",
   "execution_count": 97,
   "id": "947a3e2e",
   "metadata": {},
   "outputs": [
    {
     "data": {
      "text/plain": [
       "array([21.37153104, 27.07018468, 25.86122449, 24.20652885, 16.03543423,\n",
       "       20.14486193, 23.14392095, 21.69720651, 23.62028791, 25.59220998])"
      ]
     },
     "execution_count": 97,
     "metadata": {},
     "output_type": "execute_result"
    }
   ],
   "source": [
    "height = data[0]/100\n",
    "bmi = data[1]/height/height\n",
    "bmi"
   ]
  },
  {
   "cell_type": "code",
   "execution_count": 98,
   "id": "e74c1706",
   "metadata": {},
   "outputs": [],
   "source": [
    "# 인뎅싱, 슬라이싱, 팬시인뎅싱, 불리언인뎅싱(boolean)"
   ]
  },
  {
   "cell_type": "code",
   "execution_count": 100,
   "id": "15c32a7b",
   "metadata": {},
   "outputs": [],
   "source": [
    "# 불리언인뎅싱 : 모든 데이터를 불리언으로 만ㄴ듬\n",
    "# True는 출력, False는 미출력"
   ]
  },
  {
   "cell_type": "code",
   "execution_count": 101,
   "id": "4f813a4b",
   "metadata": {},
   "outputs": [],
   "source": [
    "arr6 = np.array([1,4,2,3,5])"
   ]
  },
  {
   "cell_type": "code",
   "execution_count": 106,
   "id": "854d8694",
   "metadata": {},
   "outputs": [
    {
     "data": {
      "text/plain": [
       "array([False,  True, False,  True,  True])"
      ]
     },
     "execution_count": 106,
     "metadata": {},
     "output_type": "execute_result"
    }
   ],
   "source": [
    "arr6 > 2"
   ]
  },
  {
   "cell_type": "code",
   "execution_count": 107,
   "id": "fb5b03f2",
   "metadata": {},
   "outputs": [
    {
     "data": {
      "text/plain": [
       "array([4, 3, 5])"
      ]
     },
     "execution_count": 107,
     "metadata": {},
     "output_type": "execute_result"
    }
   ],
   "source": [
    "arr6[arr6>2]"
   ]
  },
  {
   "cell_type": "code",
   "execution_count": 122,
   "id": "c628b31d",
   "metadata": {},
   "outputs": [
    {
     "data": {
      "text/plain": [
       "array([3])"
      ]
     },
     "execution_count": 122,
     "metadata": {},
     "output_type": "execute_result"
    }
   ],
   "source": [
    "arr6[(arr6 > 2) &(arr6<4)]"
   ]
  },
  {
   "cell_type": "code",
   "execution_count": 124,
   "id": "0c9ba8d3",
   "metadata": {},
   "outputs": [],
   "source": [
    "arr6[(arr6 > 2) and (arr6<4)]    # True False를 구분하기때문에 에러"
   ]
  },
  {
   "cell_type": "code",
   "execution_count": 133,
   "id": "fccc191d",
   "metadata": {},
   "outputs": [
    {
     "data": {
      "text/plain": [
       "15"
      ]
     },
     "execution_count": 133,
     "metadata": {},
     "output_type": "execute_result"
    }
   ],
   "source": [
    "# 계산 함수들 : sum, mean, sqrt 등  ( p160 )\n",
    "# 계산함수 : 유니버셜 함수 : 배열의 각 원소를 빠르게 처리하는 함수\n",
    "arr6.sum()"
   ]
  },
  {
   "cell_type": "code",
   "execution_count": 131,
   "id": "2e754654",
   "metadata": {},
   "outputs": [
    {
     "name": "stdout",
     "output_type": "stream",
     "text": [
      "[[1 2 3]\n",
      " [4 5 6]] ,\n",
      "21 ,\n",
      "[5 7 9] ,\n"
     ]
    },
    {
     "data": {
      "text/plain": [
       "array([ 6, 15])"
      ]
     },
     "execution_count": 131,
     "metadata": {},
     "output_type": "execute_result"
    }
   ],
   "source": [
    "print(arr3,',')\n",
    "print(arr3.sum(),',')\n",
    "print(arr3.sum(axis=0),',')\n",
    "arr3.sum(axis=1)"
   ]
  },
  {
   "cell_type": "code",
   "execution_count": null,
   "id": "7d108b44",
   "metadata": {},
   "outputs": [],
   "source": []
  }
 ],
 "metadata": {
  "kernelspec": {
   "display_name": "Python 3 (ipykernel)",
   "language": "python",
   "name": "python3"
  },
  "language_info": {
   "codemirror_mode": {
    "name": "ipython",
    "version": 3
   },
   "file_extension": ".py",
   "mimetype": "text/x-python",
   "name": "python",
   "nbconvert_exporter": "python",
   "pygments_lexer": "ipython3",
   "version": "3.9.12"
  }
 },
 "nbformat": 4,
 "nbformat_minor": 5
}
