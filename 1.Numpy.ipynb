{
 "cells": [
  {
   "cell_type": "code",
   "execution_count": 1,
   "id": "158e058b",
   "metadata": {},
   "outputs": [],
   "source": [
    "import numpy as np"
   ]
  },
  {
   "cell_type": "code",
   "execution_count": 5,
   "id": "1877cfe6",
   "metadata": {},
   "outputs": [],
   "source": [
    "# numpy에서 사용하는 배열 array 생성하기\n",
    "# 배열안에 넣을 데이터\n",
    "list1 = [1,2,3,4,5]\n",
    "list2 = [6,7,8,9,10]"
   ]
  },
  {
   "cell_type": "code",
   "execution_count": 9,
   "id": "8ff1b97e",
   "metadata": {},
   "outputs": [],
   "source": [
    "# np.array() : 배열 생성\n",
    "arr1 = np.array(list1)\n",
    "arr2 = np.array(list2)"
   ]
  },
  {
   "cell_type": "code",
   "execution_count": 10,
   "id": "93211277",
   "metadata": {},
   "outputs": [
    {
     "data": {
      "text/plain": [
       "array([ 7,  9, 11, 13, 15])"
      ]
     },
     "execution_count": 10,
     "metadata": {},
     "output_type": "execute_result"
    }
   ],
   "source": [
    "arr1+arr2        # 각 자리의 수 끼리 더하기"
   ]
  },
  {
   "cell_type": "code",
   "execution_count": 11,
   "id": "24ffcc04",
   "metadata": {},
   "outputs": [],
   "source": [
    "# 2차원 array 만들기\n",
    "list2 = [[1,2,3],[4,5,6]]     #2차원 리스트\n",
    "arr2 = np.array(list2)"
   ]
  },
  {
   "cell_type": "markdown",
   "id": "97e29ee5",
   "metadata": {},
   "source": [
    " 배열의 크기 : shape  \n",
    " 배열의 차원 : ndim  \n",
    " 배열 요소의 개수 : size  "
   ]
  },
  {
   "cell_type": "code",
   "execution_count": 13,
   "id": "3fee08f9",
   "metadata": {},
   "outputs": [
    {
     "data": {
      "text/plain": [
       "(2, 3)"
      ]
     },
     "execution_count": 13,
     "metadata": {},
     "output_type": "execute_result"
    }
   ],
   "source": [
    "arr2.shape"
   ]
  },
  {
   "cell_type": "code",
   "execution_count": 16,
   "id": "d2a80b40",
   "metadata": {},
   "outputs": [
    {
     "data": {
      "text/plain": [
       "2"
      ]
     },
     "execution_count": 16,
     "metadata": {},
     "output_type": "execute_result"
    }
   ],
   "source": [
    "arr2.ndim"
   ]
  },
  {
   "cell_type": "code",
   "execution_count": 17,
   "id": "71116198",
   "metadata": {},
   "outputs": [
    {
     "data": {
      "text/plain": [
       "6"
      ]
     },
     "execution_count": 17,
     "metadata": {},
     "output_type": "execute_result"
    }
   ],
   "source": [
    "arr2.size"
   ]
  },
  {
   "cell_type": "code",
   "execution_count": 18,
   "id": "df239bb2",
   "metadata": {},
   "outputs": [
    {
     "data": {
      "text/plain": [
       "dtype('int32')"
      ]
     },
     "execution_count": 18,
     "metadata": {},
     "output_type": "execute_result"
    }
   ],
   "source": [
    "arr2.dtype"
   ]
  },
  {
   "cell_type": "code",
   "execution_count": null,
   "id": "509582b0",
   "metadata": {},
   "outputs": [],
   "source": [
    "2147483647"
   ]
  }
 ],
 "metadata": {
  "kernelspec": {
   "display_name": "Python 3 (ipykernel)",
   "language": "python",
   "name": "python3"
  },
  "language_info": {
   "codemirror_mode": {
    "name": "ipython",
    "version": 3
   },
   "file_extension": ".py",
   "mimetype": "text/x-python",
   "name": "python",
   "nbconvert_exporter": "python",
   "pygments_lexer": "ipython3",
   "version": "3.9.12"
  }
 },
 "nbformat": 4,
 "nbformat_minor": 5
}
